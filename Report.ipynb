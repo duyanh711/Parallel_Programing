{
  "nbformat": 4,
  "nbformat_minor": 0,
  "metadata": {
    "colab": {
      "provenance": [],
      "gpuType": "T4"
    },
    "kernelspec": {
      "name": "python3",
      "display_name": "Python 3"
    },
    "language_info": {
      "name": "python"
    },
    "accelerator": "GPU"
  },
  "cells": [
    {
      "cell_type": "code",
      "execution_count": 24,
      "metadata": {
        "colab": {
          "base_uri": "https://localhost:8080/"
        },
        "id": "tDQv3ysBiEtB",
        "outputId": "c09f6c29-a54c-43a1-fd46-07cfabd57e0c"
      },
      "outputs": [
        {
          "output_type": "stream",
          "name": "stdout",
          "text": [
            "2.17.1\n"
          ]
        }
      ],
      "source": [
        "import numpy as np\n",
        "import matplotlib.pyplot as plt\n",
        "import datetime\n",
        "import tensorflow as tf\n",
        "import pandas as pd\n",
        "\n",
        "print(tf.__version__)"
      ]
    },
    {
      "cell_type": "code",
      "source": [
        "mnist = tf.keras.datasets.fashion_mnist\n",
        "(train_img, train_label), (test_img, test_label) = mnist.load_data()"
      ],
      "metadata": {
        "id": "h0eT7mRriFLW"
      },
      "execution_count": 25,
      "outputs": []
    },
    {
      "cell_type": "code",
      "source": [
        "\n",
        "train_img = np.array(train_img.reshape(-1, 28 * 28)/255.0, dtype=np.float32)\n",
        "test_img = np.array(test_img.reshape(-1, 28 * 28)/255.0, dtype=np.float32)\n",
        "\n",
        "print(\"Flattened train images shape:\", train_img.shape)  # (60000, 784)\n",
        "print(\"Flattened test images shape:\", test_img.shape)    # (10000, 784)\n"
      ],
      "metadata": {
        "colab": {
          "base_uri": "https://localhost:8080/"
        },
        "id": "b43FXgisiHbg",
        "outputId": "a55e55c8-ae20-44c7-9d99-ae9403c5cfe3"
      },
      "execution_count": 26,
      "outputs": [
        {
          "output_type": "stream",
          "name": "stdout",
          "text": [
            "Flattened train images shape: (60000, 784)\n",
            "Flattened test images shape: (10000, 784)\n"
          ]
        }
      ]
    },
    {
      "cell_type": "code",
      "source": [
        "train_label = np.array(train_label, dtype=np.int32)\n",
        "test_label = np.array(test_label, dtype=np.int32)"
      ],
      "metadata": {
        "id": "TiyfBoAQiI3k"
      },
      "execution_count": 27,
      "outputs": []
    },
    {
      "cell_type": "code",
      "source": [
        "train_img.tofile(\"x_train.bin\")\n",
        "train_label.tofile( \"y_train.bin\")\n",
        "\n",
        "test_img.tofile(\"x_test.bin\")\n",
        "test_label.tofile(\"y_test.bin\")\n",
        "\n",
        "print(\"Data saved successfully!\")"
      ],
      "metadata": {
        "colab": {
          "base_uri": "https://localhost:8080/"
        },
        "id": "sju_UTBxiXnI",
        "outputId": "2a40d52a-f70c-41a8-a6b2-fbd7d19ad3d0"
      },
      "execution_count": 28,
      "outputs": [
        {
          "output_type": "stream",
          "name": "stdout",
          "text": [
            "Data saved successfully!\n"
          ]
        }
      ]
    },
    {
      "cell_type": "code",
      "source": [
        "!nvcc kernel_ann.cu -o ann"
      ],
      "metadata": {
        "id": "JhH68Zuai5Lp"
      },
      "execution_count": 29,
      "outputs": []
    },
    {
      "cell_type": "code",
      "source": [
        "!./ann"
      ],
      "metadata": {
        "colab": {
          "base_uri": "https://localhost:8080/"
        },
        "id": "JSGZ1Mfjk38I",
        "outputId": "7a87a6e9-dcfd-4100-9563-68495c43136a"
      },
      "execution_count": 30,
      "outputs": [
        {
          "output_type": "stream",
          "name": "stdout",
          "text": [
            "Epoch 1/10 - Loss: 1.4776, Accuracy: 41.22%, Time: 761.06 ms\n",
            "Epoch 2/10 - Loss: 0.7086, Accuracy: 73.58%, Time: 617.54 ms\n",
            "Epoch 3/10 - Loss: 0.5572, Accuracy: 79.53%, Time: 619.23 ms\n",
            "Epoch 4/10 - Loss: 0.4874, Accuracy: 82.12%, Time: 619.44 ms\n",
            "Epoch 5/10 - Loss: 0.4438, Accuracy: 83.54%, Time: 628.09 ms\n",
            "Epoch 6/10 - Loss: 0.4095, Accuracy: 84.75%, Time: 622.68 ms\n",
            "Epoch 7/10 - Loss: 0.3847, Accuracy: 85.78%, Time: 618.09 ms\n",
            "Epoch 8/10 - Loss: 0.3609, Accuracy: 86.50%, Time: 618.09 ms\n",
            "Epoch 9/10 - Loss: 0.3452, Accuracy: 87.02%, Time: 639.54 ms\n",
            "Epoch 10/10 - Loss: 0.3247, Accuracy: 87.70%, Time: 634.53 ms\n",
            "Test Accuracy: 84.40%\n"
          ]
        }
      ]
    },
    {
      "cell_type": "code",
      "source": [],
      "metadata": {
        "id": "-raYJ_RamOv6"
      },
      "execution_count": 30,
      "outputs": []
    }
  ]
}