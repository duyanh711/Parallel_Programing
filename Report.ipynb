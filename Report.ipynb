{
  "nbformat": 4,
  "nbformat_minor": 0,
  "metadata": {
    "colab": {
      "provenance": [],
      "gpuType": "T4"
    },
    "kernelspec": {
      "name": "python3",
      "display_name": "Python 3"
    },
    "language_info": {
      "name": "python"
    },
    "accelerator": "GPU"
  },
  "cells": [
    {
      "cell_type": "code",
      "execution_count": 1,
      "metadata": {
        "colab": {
          "base_uri": "https://localhost:8080/"
        },
        "id": "tDQv3ysBiEtB",
        "outputId": "55933c14-02fb-4753-a6b3-4e3ed7369e5b"
      },
      "outputs": [
        {
          "output_type": "stream",
          "name": "stdout",
          "text": [
            "2.17.1\n"
          ]
        }
      ],
      "source": [
        "import numpy as np\n",
        "import matplotlib.pyplot as plt\n",
        "import datetime\n",
        "import tensorflow as tf\n",
        "import pandas as pd\n",
        "\n",
        "print(tf.__version__)"
      ]
    },
    {
      "cell_type": "code",
      "source": [
        "mnist = tf.keras.datasets.fashion_mnist\n",
        "(train_img, train_label), (test_img, test_label) = mnist.load_data()"
      ],
      "metadata": {
        "id": "h0eT7mRriFLW",
        "colab": {
          "base_uri": "https://localhost:8080/"
        },
        "outputId": "34c2f739-e208-4651-c97a-6a91134c4400"
      },
      "execution_count": 2,
      "outputs": [
        {
          "output_type": "stream",
          "name": "stdout",
          "text": [
            "Downloading data from https://storage.googleapis.com/tensorflow/tf-keras-datasets/train-labels-idx1-ubyte.gz\n",
            "\u001b[1m29515/29515\u001b[0m \u001b[32m━━━━━━━━━━━━━━━━━━━━\u001b[0m\u001b[37m\u001b[0m \u001b[1m0s\u001b[0m 0us/step\n",
            "Downloading data from https://storage.googleapis.com/tensorflow/tf-keras-datasets/train-images-idx3-ubyte.gz\n",
            "\u001b[1m26421880/26421880\u001b[0m \u001b[32m━━━━━━━━━━━━━━━━━━━━\u001b[0m\u001b[37m\u001b[0m \u001b[1m0s\u001b[0m 0us/step\n",
            "Downloading data from https://storage.googleapis.com/tensorflow/tf-keras-datasets/t10k-labels-idx1-ubyte.gz\n",
            "\u001b[1m5148/5148\u001b[0m \u001b[32m━━━━━━━━━━━━━━━━━━━━\u001b[0m\u001b[37m\u001b[0m \u001b[1m0s\u001b[0m 1us/step\n",
            "Downloading data from https://storage.googleapis.com/tensorflow/tf-keras-datasets/t10k-images-idx3-ubyte.gz\n",
            "\u001b[1m4422102/4422102\u001b[0m \u001b[32m━━━━━━━━━━━━━━━━━━━━\u001b[0m\u001b[37m\u001b[0m \u001b[1m0s\u001b[0m 0us/step\n"
          ]
        }
      ]
    },
    {
      "cell_type": "code",
      "source": [
        "\n",
        "train_img = np.array(train_img.reshape(-1, 28 * 28)/255.0, dtype=np.float32)\n",
        "test_img = np.array(test_img.reshape(-1, 28 * 28)/255.0, dtype=np.float32)\n",
        "\n",
        "print(\"Flattened train images shape:\", train_img.shape)  # (60000, 784)\n",
        "print(\"Flattened test images shape:\", test_img.shape)    # (10000, 784)\n"
      ],
      "metadata": {
        "colab": {
          "base_uri": "https://localhost:8080/"
        },
        "id": "b43FXgisiHbg",
        "outputId": "50697da0-d66f-43d3-c962-9e50b4693233"
      },
      "execution_count": 3,
      "outputs": [
        {
          "output_type": "stream",
          "name": "stdout",
          "text": [
            "Flattened train images shape: (60000, 784)\n",
            "Flattened test images shape: (10000, 784)\n"
          ]
        }
      ]
    },
    {
      "cell_type": "code",
      "source": [
        "train_label = np.array(train_label, dtype=np.int32)\n",
        "test_label = np.array(test_label, dtype=np.int32)"
      ],
      "metadata": {
        "id": "TiyfBoAQiI3k"
      },
      "execution_count": 4,
      "outputs": []
    },
    {
      "cell_type": "code",
      "source": [
        "train_img.tofile(\"x_train.bin\")\n",
        "train_label.tofile( \"y_train.bin\")\n",
        "\n",
        "test_img.tofile(\"x_test.bin\")\n",
        "test_label.tofile(\"y_test.bin\")\n",
        "\n",
        "print(\"Data saved successfully!\")"
      ],
      "metadata": {
        "colab": {
          "base_uri": "https://localhost:8080/"
        },
        "id": "sju_UTBxiXnI",
        "outputId": "4b0d8cc5-b7d8-4e3b-9fa8-15f4bf44ca0d"
      },
      "execution_count": 5,
      "outputs": [
        {
          "output_type": "stream",
          "name": "stdout",
          "text": [
            "Data saved successfully!\n"
          ]
        }
      ]
    },
    {
      "cell_type": "code",
      "source": [
        "%%writefile Makefile\n",
        "NVCC = nvcc\n",
        "NVCC_FLAGS = -O3 -arch=sm_70\n",
        "\n",
        "all: main\n",
        "\n",
        "main: main.cu neural_network.cu cuda_utils.cu data_loader.cu kernels.cu training.cu\n",
        "\t$(NVCC) $(NVCC_FLAGS) $^ -o $@\n",
        "\n",
        "clean:\n",
        "\trm -f main"
      ],
      "metadata": {
        "colab": {
          "base_uri": "https://localhost:8080/"
        },
        "id": "dJhV-Pncd9rQ",
        "outputId": "d1abe0cd-89ec-4223-a2cb-3179f4642f70"
      },
      "execution_count": 7,
      "outputs": [
        {
          "output_type": "stream",
          "name": "stdout",
          "text": [
            "Writing Makefile\n"
          ]
        }
      ]
    },
    {
      "cell_type": "code",
      "source": [
        "!make"
      ],
      "metadata": {
        "id": "JhH68Zuai5Lp",
        "colab": {
          "base_uri": "https://localhost:8080/"
        },
        "outputId": "099730d8-2e65-4983-faf9-cb12863b4daa"
      },
      "execution_count": 8,
      "outputs": [
        {
          "output_type": "stream",
          "name": "stdout",
          "text": [
            "nvcc -O3 -arch=sm_70 main.cu neural_network.cu cuda_utils.cu data_loader.cu kernels.cu training.cu -o main\n"
          ]
        }
      ]
    },
    {
      "cell_type": "code",
      "source": [
        "!./main"
      ],
      "metadata": {
        "colab": {
          "base_uri": "https://localhost:8080/"
        },
        "id": "JSGZ1Mfjk38I",
        "outputId": "9f5d83f4-f3c6-4dd0-a083-0b13daec0e8a"
      },
      "execution_count": 9,
      "outputs": [
        {
          "output_type": "stream",
          "name": "stdout",
          "text": [
            "Epoch 1/10 - Loss: 1.4058, Accuracy: 44.94%, Time: 742.85 ms\n",
            "Epoch 2/10 - Loss: 0.6942, Accuracy: 74.14%, Time: 604.67 ms\n",
            "Epoch 3/10 - Loss: 0.5552, Accuracy: 79.86%, Time: 605.94 ms\n",
            "Epoch 4/10 - Loss: 0.4849, Accuracy: 82.00%, Time: 603.28 ms\n",
            "Epoch 5/10 - Loss: 0.4431, Accuracy: 83.47%, Time: 604.78 ms\n",
            "Epoch 6/10 - Loss: 0.4090, Accuracy: 84.73%, Time: 608.37 ms\n",
            "Epoch 7/10 - Loss: 0.3862, Accuracy: 85.63%, Time: 607.64 ms\n",
            "Epoch 8/10 - Loss: 0.3594, Accuracy: 86.43%, Time: 612.49 ms\n",
            "Epoch 9/10 - Loss: 0.3432, Accuracy: 87.27%, Time: 611.47 ms\n",
            "Epoch 10/10 - Loss: 0.3314, Accuracy: 87.58%, Time: 612.01 ms\n",
            "Test Accuracy: 83.60%\n"
          ]
        }
      ]
    },
    {
      "cell_type": "code",
      "source": [],
      "metadata": {
        "id": "-raYJ_RamOv6"
      },
      "execution_count": null,
      "outputs": []
    }
  ]
}